{
 "cells": [
  {
   "cell_type": "code",
   "execution_count": 1,
   "metadata": {},
   "outputs": [],
   "source": [
    "import numpy as np\n",
    "import tensorflow as tf\n",
    "from tensorflow import keras\n",
    "import pandas as pd\n",
    "import seaborn as sns\n",
    "from pylab import rcParams\n",
    "import matplotlib.pyplot as plt\n",
    "from matplotlib import rc\n",
    "from sklearn.model_selection import train_test_split\n",
    "import joblib\n",
    "\n",
    "%matplotlib inline\n",
    "%config InlineBackend.figure_format='retina'\n",
    "\n",
    "sns.set(style='whitegrid', palette='muted', font_scale=1.5)\n",
    "\n",
    "rcParams['figure.figsize'] = 16, 10\n",
    "\n",
    "RANDOM_SEED = 42\n",
    "\n",
    "np.random.seed(RANDOM_SEED)\n",
    "#tf.random.set_seed(RANDOM_SEED)"
   ]
  },
  {
   "cell_type": "code",
   "execution_count": 2,
   "metadata": {},
   "outputs": [],
   "source": [
    "df = pd.read_excel('Train_dataset.xlsx')"
   ]
  },
  {
   "cell_type": "code",
   "execution_count": 3,
   "metadata": {},
   "outputs": [
    {
     "data": {
      "text/html": [
       "<div>\n",
       "<style scoped>\n",
       "    .dataframe tbody tr th:only-of-type {\n",
       "        vertical-align: middle;\n",
       "    }\n",
       "\n",
       "    .dataframe tbody tr th {\n",
       "        vertical-align: top;\n",
       "    }\n",
       "\n",
       "    .dataframe thead th {\n",
       "        text-align: right;\n",
       "    }\n",
       "</style>\n",
       "<table border=\"1\" class=\"dataframe\">\n",
       "  <thead>\n",
       "    <tr style=\"text-align: right;\">\n",
       "      <th></th>\n",
       "      <th>people_ID</th>\n",
       "      <th>Region</th>\n",
       "      <th>Gender</th>\n",
       "      <th>Designation</th>\n",
       "      <th>Name</th>\n",
       "      <th>Married</th>\n",
       "      <th>Children</th>\n",
       "      <th>Occupation</th>\n",
       "      <th>Mode_transport</th>\n",
       "      <th>cases/1M</th>\n",
       "      <th>...</th>\n",
       "      <th>HBB</th>\n",
       "      <th>d-dimer</th>\n",
       "      <th>Heart rate</th>\n",
       "      <th>HDL cholesterol</th>\n",
       "      <th>Charlson Index</th>\n",
       "      <th>Blood Glucose</th>\n",
       "      <th>Insurance</th>\n",
       "      <th>salary</th>\n",
       "      <th>FT/month</th>\n",
       "      <th>Infect_Prob</th>\n",
       "    </tr>\n",
       "  </thead>\n",
       "  <tbody>\n",
       "    <tr>\n",
       "      <th>0</th>\n",
       "      <td>1</td>\n",
       "      <td>Bhubaneshwar</td>\n",
       "      <td>Female</td>\n",
       "      <td>Mrs</td>\n",
       "      <td>mansi</td>\n",
       "      <td>YES</td>\n",
       "      <td>1.0</td>\n",
       "      <td>Farmer</td>\n",
       "      <td>Public</td>\n",
       "      <td>2</td>\n",
       "      <td>...</td>\n",
       "      <td>93.0</td>\n",
       "      <td>233.0</td>\n",
       "      <td>82.0</td>\n",
       "      <td>58.0</td>\n",
       "      <td>27</td>\n",
       "      <td>7</td>\n",
       "      <td>3600000.0</td>\n",
       "      <td>1300000</td>\n",
       "      <td>2.0</td>\n",
       "      <td>49.135010</td>\n",
       "    </tr>\n",
       "    <tr>\n",
       "      <th>1</th>\n",
       "      <td>2</td>\n",
       "      <td>Bhubaneshwar</td>\n",
       "      <td>Female</td>\n",
       "      <td>Mrs</td>\n",
       "      <td>riya masi</td>\n",
       "      <td>YES</td>\n",
       "      <td>2.0</td>\n",
       "      <td>Farmer</td>\n",
       "      <td>Walk</td>\n",
       "      <td>2</td>\n",
       "      <td>...</td>\n",
       "      <td>56.0</td>\n",
       "      <td>328.0</td>\n",
       "      <td>89.0</td>\n",
       "      <td>68.0</td>\n",
       "      <td>5</td>\n",
       "      <td>6</td>\n",
       "      <td>1600000.0</td>\n",
       "      <td>400000</td>\n",
       "      <td>1.0</td>\n",
       "      <td>51.147880</td>\n",
       "    </tr>\n",
       "    <tr>\n",
       "      <th>2</th>\n",
       "      <td>3</td>\n",
       "      <td>Bhubaneshwar</td>\n",
       "      <td>Female</td>\n",
       "      <td>Mrs</td>\n",
       "      <td>sunita</td>\n",
       "      <td>NO</td>\n",
       "      <td>1.0</td>\n",
       "      <td>Cleaner</td>\n",
       "      <td>Public</td>\n",
       "      <td>2</td>\n",
       "      <td>...</td>\n",
       "      <td>137.0</td>\n",
       "      <td>213.0</td>\n",
       "      <td>77.0</td>\n",
       "      <td>43.0</td>\n",
       "      <td>40</td>\n",
       "      <td>6</td>\n",
       "      <td>3400000.0</td>\n",
       "      <td>900000</td>\n",
       "      <td>1.0</td>\n",
       "      <td>73.224000</td>\n",
       "    </tr>\n",
       "    <tr>\n",
       "      <th>3</th>\n",
       "      <td>4</td>\n",
       "      <td>Bhubaneshwar</td>\n",
       "      <td>Female</td>\n",
       "      <td>Mrs</td>\n",
       "      <td>anjali @ babli</td>\n",
       "      <td>YES</td>\n",
       "      <td>1.0</td>\n",
       "      <td>Driver</td>\n",
       "      <td>Car</td>\n",
       "      <td>2</td>\n",
       "      <td>...</td>\n",
       "      <td>167.0</td>\n",
       "      <td>275.0</td>\n",
       "      <td>64.0</td>\n",
       "      <td>60.0</td>\n",
       "      <td>27</td>\n",
       "      <td>7</td>\n",
       "      <td>700000.0</td>\n",
       "      <td>2300000</td>\n",
       "      <td>1.0</td>\n",
       "      <td>48.779225</td>\n",
       "    </tr>\n",
       "    <tr>\n",
       "      <th>4</th>\n",
       "      <td>5</td>\n",
       "      <td>Bhubaneshwar</td>\n",
       "      <td>Female</td>\n",
       "      <td>Mrs</td>\n",
       "      <td>champa karketta</td>\n",
       "      <td>NO</td>\n",
       "      <td>2.0</td>\n",
       "      <td>Manufacturing</td>\n",
       "      <td>Car</td>\n",
       "      <td>2</td>\n",
       "      <td>...</td>\n",
       "      <td>153.0</td>\n",
       "      <td>331.0</td>\n",
       "      <td>71.0</td>\n",
       "      <td>64.0</td>\n",
       "      <td>32</td>\n",
       "      <td>7</td>\n",
       "      <td>3200000.0</td>\n",
       "      <td>1100000</td>\n",
       "      <td>1.0</td>\n",
       "      <td>87.868800</td>\n",
       "    </tr>\n",
       "  </tbody>\n",
       "</table>\n",
       "<p>5 rows × 28 columns</p>\n",
       "</div>"
      ],
      "text/plain": [
       "   people_ID        Region  Gender Designation             Name Married  \\\n",
       "0          1  Bhubaneshwar  Female         Mrs            mansi     YES   \n",
       "1          2  Bhubaneshwar  Female         Mrs        riya masi     YES   \n",
       "2          3  Bhubaneshwar  Female         Mrs           sunita      NO   \n",
       "3          4  Bhubaneshwar  Female         Mrs   anjali @ babli     YES   \n",
       "4          5  Bhubaneshwar  Female         Mrs  champa karketta      NO   \n",
       "\n",
       "   Children     Occupation Mode_transport  cases/1M  ...    HBB d-dimer  \\\n",
       "0       1.0         Farmer         Public         2  ...   93.0   233.0   \n",
       "1       2.0         Farmer           Walk         2  ...   56.0   328.0   \n",
       "2       1.0        Cleaner         Public         2  ...  137.0   213.0   \n",
       "3       1.0         Driver            Car         2  ...  167.0   275.0   \n",
       "4       2.0  Manufacturing            Car         2  ...  153.0   331.0   \n",
       "\n",
       "   Heart rate  HDL cholesterol Charlson Index Blood Glucose  Insurance  \\\n",
       "0        82.0             58.0             27             7  3600000.0   \n",
       "1        89.0             68.0              5             6  1600000.0   \n",
       "2        77.0             43.0             40             6  3400000.0   \n",
       "3        64.0             60.0             27             7   700000.0   \n",
       "4        71.0             64.0             32             7  3200000.0   \n",
       "\n",
       "    salary  FT/month  Infect_Prob  \n",
       "0  1300000       2.0    49.135010  \n",
       "1   400000       1.0    51.147880  \n",
       "2   900000       1.0    73.224000  \n",
       "3  2300000       1.0    48.779225  \n",
       "4  1100000       1.0    87.868800  \n",
       "\n",
       "[5 rows x 28 columns]"
      ]
     },
     "execution_count": 3,
     "metadata": {},
     "output_type": "execute_result"
    }
   ],
   "source": [
    "df.head()"
   ]
  },
  {
   "cell_type": "code",
   "execution_count": 4,
   "metadata": {},
   "outputs": [
    {
     "data": {
      "text/plain": [
       "(10714, 28)"
      ]
     },
     "execution_count": 4,
     "metadata": {},
     "output_type": "execute_result"
    }
   ],
   "source": [
    "df.shape"
   ]
  },
  {
   "cell_type": "code",
   "execution_count": 5,
   "metadata": {},
   "outputs": [
    {
     "data": {
      "text/plain": [
       "Index(['people_ID', 'Region', 'Gender', 'Designation', 'Name', 'Married',\n",
       "       'Children', 'Occupation', 'Mode_transport', 'cases/1M', 'Deaths/1M',\n",
       "       'comorbidity', 'Age', 'Coma score', 'Pulmonary score',\n",
       "       'cardiological pressure', 'Diuresis', 'Platelets', 'HBB', 'd-dimer',\n",
       "       'Heart rate', 'HDL cholesterol', 'Charlson Index', 'Blood Glucose',\n",
       "       'Insurance', 'salary', 'FT/month', 'Infect_Prob'],\n",
       "      dtype='object')"
      ]
     },
     "execution_count": 5,
     "metadata": {},
     "output_type": "execute_result"
    }
   ],
   "source": [
    "df.columns"
   ]
  },
  {
   "cell_type": "code",
   "execution_count": 6,
   "metadata": {},
   "outputs": [
    {
     "data": {
      "image/png": "[encoded data removed]",
      "text/plain": [
       "<Figure size 432x288 with 1 Axes>"
      ]
     },
     "metadata": {
      "image/png": {
       "height": 277,
       "width": 416
      },
      "needs_background": "light"
     },
     "output_type": "display_data"
    }
   ],
   "source": [
    "sns.countplot(x='Pulmonary score', data=df);"
   ]
  },
  {
   "cell_type": "code",
   "execution_count": 7,
   "metadata": {},
   "outputs": [
    {
     "data": {
      "image/png": "[encoded data removed]",
      "text/plain": [
       "<Figure size 432x288 with 1 Axes>"
      ]
     },
     "metadata": {
      "image/png": {
       "height": 277,
       "width": 420
      },
      "needs_background": "light"
     },
     "output_type": "display_data"
    }
   ],
   "source": [
    "sns.countplot(x='Region', data=df);"
   ]
  },
  {
   "cell_type": "code",
   "execution_count": 8,
   "metadata": {},
   "outputs": [
    {
     "data": {
      "image/png": "[encoded data removed]",
      "text/plain": [
       "<Figure size 432x288 with 1 Axes>"
      ]
     },
     "metadata": {
      "image/png": {
       "height": 277,
       "width": 367
      },
      "needs_background": "light"
     },
     "output_type": "display_data"
    }
   ],
   "source": [
    "sns.distplot(np.log1p(df.Infect_Prob));"
   ]
  },
  {
   "cell_type": "code",
   "execution_count": 9,
   "metadata": {},
   "outputs": [
    {
     "data": {
      "image/png": "[encoded data removed]",
      "text/plain": [
       "<Figure size 432x288 with 1 Axes>"
      ]
     },
     "metadata": {
      "image/png": {
       "height": 277,
       "width": 416
      },
      "needs_background": "light"
     },
     "output_type": "display_data"
    }
   ],
   "source": [
    "sns.countplot(x='Gender', data=df);"
   ]
  },
  {
   "cell_type": "code",
   "execution_count": 10,
   "metadata": {},
   "outputs": [
    {
     "data": {
      "image/png": "[encoded data removed]",
      "text/plain": [
       "<Figure size 432x288 with 1 Axes>"
      ]
     },
     "metadata": {
      "image/png": {
       "height": 277,
       "width": 415
      },
      "needs_background": "light"
     },
     "output_type": "display_data"
    }
   ],
   "source": [
    "sns.countplot(x='Married', data=df);"
   ]
  },
  {
   "cell_type": "code",
   "execution_count": 11,
   "metadata": {},
   "outputs": [
    {
     "data": {
      "text/plain": [
       "FT/month          -0.001474\n",
       "Heart rate        -0.003647\n",
       "Diuresis           0.006887\n",
       "Blood Glucose     -0.009654\n",
       "Insurance          0.009996\n",
       "Charlson Index    -0.011368\n",
       "HDL cholesterol    0.013288\n",
       "HBB                0.019361\n",
       "d-dimer            0.021304\n",
       "salary            -0.024621\n",
       "Coma score         0.038400\n",
       "Platelets          0.066727\n",
       "people_ID          0.079361\n",
       "cases/1M           0.172871\n",
       "Deaths/1M          0.174994\n",
       "Children           0.226795\n",
       "Age               -0.331258\n",
       "Infect_Prob        1.000000\n",
       "Name: Infect_Prob, dtype: float64"
      ]
     },
     "execution_count": 11,
     "metadata": {},
     "output_type": "execute_result"
    }
   ],
   "source": [
    "corr_matrix = df.corr()\n",
    "price_corr = corr_matrix['Infect_Prob']\n",
    "price_corr.iloc[price_corr.abs().argsort()]"
   ]
  },
  {
   "cell_type": "code",
   "execution_count": 12,
   "metadata": {},
   "outputs": [
    {
     "data": {
      "text/plain": [
       "Heart rate                1114\n",
       "d-dimer                   1114\n",
       "Insurance                 1090\n",
       "Platelets                  924\n",
       "Occupation                 747\n",
       "FT/month                   723\n",
       "Diuresis                   716\n",
       "Children                   311\n",
       "comorbidity                226\n",
       "cardiological pressure      97\n",
       "HDL cholesterol             35\n",
       "Name                        20\n",
       "HBB                         16\n",
       "Mode_transport               3\n",
       "dtype: int64"
      ]
     },
     "execution_count": 12,
     "metadata": {},
     "output_type": "execute_result"
    }
   ],
   "source": [
    "missing = df.isnull().sum()\n",
    "missing[missing > 0].sort_values(ascending=False)"
   ]
  },
  {
   "cell_type": "code",
   "execution_count": 13,
   "metadata": {},
   "outputs": [],
   "source": [
    "df = df.drop(['people_ID','Heart rate', 'd-dimer', 'Married','Insurance', 'Platelets', 'Occupation', 'FT/month', 'Diuresis' , 'Children' , 'comorbidity' ,'Designation','Gender', 'cardiological pressure' , 'HDL cholesterol' , 'Name' , 'HBB' , 'Mode_transport'], axis=1)"
   ]
  },
  {
   "cell_type": "code",
   "execution_count": 14,
   "metadata": {},
   "outputs": [
    {
     "data": {
      "text/plain": [
       "Series([], dtype: int64)"
      ]
     },
     "execution_count": 14,
     "metadata": {},
     "output_type": "execute_result"
    }
   ],
   "source": [
    "missing = df.isnull().sum()\n",
    "missing[missing > 0].sort_values(ascending=False)"
   ]
  },
  {
   "cell_type": "code",
   "execution_count": 15,
   "metadata": {},
   "outputs": [
    {
     "data": {
      "text/plain": [
       "Index(['Region', 'cases/1M', 'Deaths/1M', 'Age', 'Coma score',\n",
       "       'Pulmonary score', 'Charlson Index', 'Blood Glucose', 'salary',\n",
       "       'Infect_Prob'],\n",
       "      dtype='object')"
      ]
     },
     "execution_count": 15,
     "metadata": {},
     "output_type": "execute_result"
    }
   ],
   "source": [
    "df.columns"
   ]
  },
  {
   "cell_type": "code",
   "execution_count": 16,
   "metadata": {},
   "outputs": [
    {
     "data": {
      "text/html": [
       "<div>\n",
       "<style scoped>\n",
       "    .dataframe tbody tr th:only-of-type {\n",
       "        vertical-align: middle;\n",
       "    }\n",
       "\n",
       "    .dataframe tbody tr th {\n",
       "        vertical-align: top;\n",
       "    }\n",
       "\n",
       "    .dataframe thead th {\n",
       "        text-align: right;\n",
       "    }\n",
       "</style>\n",
       "<table border=\"1\" class=\"dataframe\">\n",
       "  <thead>\n",
       "    <tr style=\"text-align: right;\">\n",
       "      <th></th>\n",
       "      <th>Region</th>\n",
       "      <th>cases/1M</th>\n",
       "      <th>Deaths/1M</th>\n",
       "      <th>Age</th>\n",
       "      <th>Coma score</th>\n",
       "      <th>Pulmonary score</th>\n",
       "      <th>Charlson Index</th>\n",
       "      <th>Blood Glucose</th>\n",
       "      <th>salary</th>\n",
       "      <th>Infect_Prob</th>\n",
       "    </tr>\n",
       "  </thead>\n",
       "  <tbody>\n",
       "    <tr>\n",
       "      <th>0</th>\n",
       "      <td>Bhubaneshwar</td>\n",
       "      <td>2</td>\n",
       "      <td>0</td>\n",
       "      <td>68</td>\n",
       "      <td>8</td>\n",
       "      <td>&lt;400</td>\n",
       "      <td>27</td>\n",
       "      <td>7</td>\n",
       "      <td>1300000</td>\n",
       "      <td>49.135010</td>\n",
       "    </tr>\n",
       "    <tr>\n",
       "      <th>1</th>\n",
       "      <td>Bhubaneshwar</td>\n",
       "      <td>2</td>\n",
       "      <td>0</td>\n",
       "      <td>64</td>\n",
       "      <td>15</td>\n",
       "      <td>&lt;100</td>\n",
       "      <td>5</td>\n",
       "      <td>6</td>\n",
       "      <td>400000</td>\n",
       "      <td>51.147880</td>\n",
       "    </tr>\n",
       "    <tr>\n",
       "      <th>2</th>\n",
       "      <td>Bhubaneshwar</td>\n",
       "      <td>2</td>\n",
       "      <td>0</td>\n",
       "      <td>19</td>\n",
       "      <td>13</td>\n",
       "      <td>&lt;300</td>\n",
       "      <td>40</td>\n",
       "      <td>6</td>\n",
       "      <td>900000</td>\n",
       "      <td>73.224000</td>\n",
       "    </tr>\n",
       "    <tr>\n",
       "      <th>3</th>\n",
       "      <td>Bhubaneshwar</td>\n",
       "      <td>2</td>\n",
       "      <td>0</td>\n",
       "      <td>33</td>\n",
       "      <td>9</td>\n",
       "      <td>&lt;200</td>\n",
       "      <td>27</td>\n",
       "      <td>7</td>\n",
       "      <td>2300000</td>\n",
       "      <td>48.779225</td>\n",
       "    </tr>\n",
       "    <tr>\n",
       "      <th>4</th>\n",
       "      <td>Bhubaneshwar</td>\n",
       "      <td>2</td>\n",
       "      <td>0</td>\n",
       "      <td>23</td>\n",
       "      <td>7</td>\n",
       "      <td>&lt;400</td>\n",
       "      <td>32</td>\n",
       "      <td>7</td>\n",
       "      <td>1100000</td>\n",
       "      <td>87.868800</td>\n",
       "    </tr>\n",
       "  </tbody>\n",
       "</table>\n",
       "</div>"
      ],
      "text/plain": [
       "         Region  cases/1M  Deaths/1M  Age  Coma score Pulmonary score  \\\n",
       "0  Bhubaneshwar         2          0   68           8            <400   \n",
       "1  Bhubaneshwar         2          0   64          15            <100   \n",
       "2  Bhubaneshwar         2          0   19          13            <300   \n",
       "3  Bhubaneshwar         2          0   33           9            <200   \n",
       "4  Bhubaneshwar         2          0   23           7            <400   \n",
       "\n",
       "   Charlson Index  Blood Glucose   salary  Infect_Prob  \n",
       "0              27              7  1300000    49.135010  \n",
       "1               5              6   400000    51.147880  \n",
       "2              40              6   900000    73.224000  \n",
       "3              27              7  2300000    48.779225  \n",
       "4              32              7  1100000    87.868800  "
      ]
     },
     "execution_count": 16,
     "metadata": {},
     "output_type": "execute_result"
    }
   ],
   "source": [
    "df.head()"
   ]
  },
  {
   "cell_type": "code",
   "execution_count": 17,
   "metadata": {},
   "outputs": [],
   "source": [
    "X = df.drop('Infect_Prob', axis=1)\n",
    "y = np.log1p(df.Infect_Prob.values)"
   ]
  },
  {
   "cell_type": "code",
   "execution_count": 18,
   "metadata": {},
   "outputs": [
    {
     "name": "stdout",
     "output_type": "stream",
     "text": [
      "[3.91471956 3.95408353 4.30708755 3.90759773 4.48716112 3.92233654\n",
      " 3.92534113 3.91444058 3.90261736 3.90146945]\n"
     ]
    }
   ],
   "source": [
    "print(y[:10])"
   ]
  },
  {
   "cell_type": "code",
   "execution_count": 19,
   "metadata": {},
   "outputs": [
    {
     "data": {
      "text/plain": [
       "array([[0., 1., 0., 0., 0.],\n",
       "       [0., 0., 1., 0., 0.],\n",
       "       [0., 0., 0., 1., 0.],\n",
       "       [1., 0., 0., 0., 0.],\n",
       "       [0., 0., 0., 0., 1.]])"
      ]
     },
     "execution_count": 19,
     "metadata": {},
     "output_type": "execute_result"
    }
   ],
   "source": [
    "from sklearn.preprocessing import OneHotEncoder\n",
    "\n",
    "data = [['Bhubaneshwar'], ['Chandigarh'], ['Chennai'], ['Bengaluru'], ['Delhi']]\n",
    "\n",
    "OneHotEncoder(sparse=False).fit_transform(data)"
   ]
  },
  {
   "cell_type": "code",
   "execution_count": 20,
   "metadata": {},
   "outputs": [],
   "source": [
    "from sklearn.preprocessing import MinMaxScaler, OneHotEncoder\n",
    "from sklearn.compose import make_column_transformer\n",
    "\n",
    "transformer = make_column_transformer(\n",
    "    (MinMaxScaler(), [ 'cases/1M', 'Deaths/1M' , 'Age' , 'Coma score','Charlson Index','Blood Glucose','salary']),\n",
    "    (OneHotEncoder(handle_unknown=\"ignore\"), [ 'Region', 'Pulmonary score'])\n",
    ")"
   ]
  },
  {
   "cell_type": "code",
   "execution_count": 21,
   "metadata": {},
   "outputs": [
    {
     "data": {
      "text/plain": [
       "ColumnTransformer(n_jobs=None, remainder='drop', sparse_threshold=0.3,\n",
       "                  transformer_weights=None,\n",
       "                  transformers=[('minmaxscaler',\n",
       "                                 MinMaxScaler(copy=True, feature_range=(0, 1)),\n",
       "                                 ['cases/1M', 'Deaths/1M', 'Age', 'Coma score',\n",
       "                                  'Charlson Index', 'Blood Glucose',\n",
       "                                  'salary']),\n",
       "                                ('onehotencoder',\n",
       "                                 OneHotEncoder(categories='auto', drop=None,\n",
       "                                               dtype=<class 'numpy.float64'>,\n",
       "                                               handle_unknown='ignore',\n",
       "                                               sparse=True),\n",
       "                                 ['Region', 'Pulmonary score'])],\n",
       "                  verbose=False)"
      ]
     },
     "execution_count": 21,
     "metadata": {},
     "output_type": "execute_result"
    }
   ],
   "source": [
    "transformer.fit(X)"
   ]
  },
  {
   "cell_type": "code",
   "execution_count": 22,
   "metadata": {},
   "outputs": [],
   "source": [
    "X = transformer.transform(X)"
   ]
  },
  {
   "cell_type": "code",
   "execution_count": 23,
   "metadata": {},
   "outputs": [],
   "source": [
    "X_train, y_train= X, y"
   ]
  },
  {
   "cell_type": "code",
   "execution_count": 24,
   "metadata": {},
   "outputs": [
    {
     "data": {
      "text/plain": [
       "(10714, 16)"
      ]
     },
     "execution_count": 24,
     "metadata": {},
     "output_type": "execute_result"
    }
   ],
   "source": [
    "X_train.shape"
   ]
  },
  {
   "cell_type": "code",
   "execution_count": 25,
   "metadata": {},
   "outputs": [
    {
     "name": "stdout",
     "output_type": "stream",
     "text": [
      "WARNING:tensorflow:From C:\\Users\\Public\\Anaconda3\\lib\\site-packages\\tensorflow\\python\\ops\\resource_variable_ops.py:435: colocate_with (from tensorflow.python.framework.ops) is deprecated and will be removed in a future version.\n",
      "Instructions for updating:\n",
      "Colocations handled automatically by placer.\n",
      "WARNING:tensorflow:From C:\\Users\\Public\\Anaconda3\\lib\\site-packages\\tensorflow\\python\\keras\\layers\\core.py:143: calling dropout (from tensorflow.python.ops.nn_ops) with keep_prob is deprecated and will be removed in a future version.\n",
      "Instructions for updating:\n",
      "Please use `rate` instead of `keep_prob`. Rate should be set to `rate = 1 - keep_prob`.\n",
      "WARNING:tensorflow:From C:\\Users\\Public\\Anaconda3\\lib\\site-packages\\tensorflow\\python\\keras\\utils\\losses_utils.py:170: to_float (from tensorflow.python.ops.math_ops) is deprecated and will be removed in a future version.\n",
      "Instructions for updating:\n",
      "Use tf.cast instead.\n",
      "Train on 8571 samples, validate on 2143 samples\n",
      "WARNING:tensorflow:From C:\\Users\\Public\\Anaconda3\\lib\\site-packages\\tensorflow\\python\\ops\\math_ops.py:3066: to_int32 (from tensorflow.python.ops.math_ops) is deprecated and will be removed in a future version.\n",
      "Instructions for updating:\n",
      "Use tf.cast instead.\n",
      "Epoch 1/100\n",
      "8571/8571 [==============================] - 5s 559us/sample - loss: 9.2406 - mean_squared_error: 9.2406 - val_loss: 3.3134 - val_mean_squared_error: 3.3134\n",
      "Epoch 2/100\n",
      "8571/8571 [==============================] - 1s 89us/sample - loss: 2.7441 - mean_squared_error: 2.7441 - val_loss: 0.4981 - val_mean_squared_error: 0.4981\n",
      "Epoch 3/100\n",
      "8571/8571 [==============================] - 1s 90us/sample - loss: 1.7729 - mean_squared_error: 1.7729 - val_loss: 0.3136 - val_mean_squared_error: 0.3136\n",
      "Epoch 4/100\n",
      "8571/8571 [==============================] - 1s 108us/sample - loss: 1.5482 - mean_squared_error: 1.5482 - val_loss: 0.2289 - val_mean_squared_error: 0.2289\n",
      "Epoch 5/100\n",
      "8571/8571 [==============================] - 1s 95us/sample - loss: 1.3900 - mean_squared_error: 1.3900 - val_loss: 0.2039 - val_mean_squared_error: 0.2039\n",
      "Epoch 6/100\n",
      "8571/8571 [==============================] - 1s 93us/sample - loss: 1.3296 - mean_squared_error: 1.3296 - val_loss: 0.1918 - val_mean_squared_error: 0.1918\n",
      "Epoch 7/100\n",
      "8571/8571 [==============================] - 1s 88us/sample - loss: 1.2504 - mean_squared_error: 1.2504 - val_loss: 0.1886 - val_mean_squared_error: 0.1886\n",
      "Epoch 8/100\n",
      "8571/8571 [==============================] - 1s 89us/sample - loss: 1.1697 - mean_squared_error: 1.1697 - val_loss: 0.1451 - val_mean_squared_error: 0.1451\n",
      "Epoch 9/100\n",
      "8571/8571 [==============================] - 1s 91us/sample - loss: 1.1196 - mean_squared_error: 1.1196 - val_loss: 0.1405 - val_mean_squared_error: 0.1405\n",
      "Epoch 10/100\n",
      "8571/8571 [==============================] - 1s 122us/sample - loss: 1.0856 - mean_squared_error: 1.0856 - val_loss: 0.1192 - val_mean_squared_error: 0.1192\n",
      "Epoch 11/100\n",
      "8571/8571 [==============================] - 1s 96us/sample - loss: 1.0755 - mean_squared_error: 1.0755 - val_loss: 0.1496 - val_mean_squared_error: 0.1496\n",
      "Epoch 12/100\n",
      "8571/8571 [==============================] - 1s 99us/sample - loss: 1.0219 - mean_squared_error: 1.0219 - val_loss: 0.1122 - val_mean_squared_error: 0.1122\n",
      "Epoch 13/100\n",
      "8571/8571 [==============================] - 1s 107us/sample - loss: 1.0121 - mean_squared_error: 1.0121 - val_loss: 0.0967 - val_mean_squared_error: 0.0967\n",
      "Epoch 14/100\n",
      "8571/8571 [==============================] - 1s 108us/sample - loss: 0.9824 - mean_squared_error: 0.9824 - val_loss: 0.1106 - val_mean_squared_error: 0.1106\n",
      "Epoch 15/100\n",
      "8571/8571 [==============================] - 1s 99us/sample - loss: 0.9561 - mean_squared_error: 0.9561 - val_loss: 0.0800 - val_mean_squared_error: 0.0800\n",
      "Epoch 16/100\n",
      "8571/8571 [==============================] - 1s 87us/sample - loss: 0.9401 - mean_squared_error: 0.9401 - val_loss: 0.0639 - val_mean_squared_error: 0.0639\n",
      "Epoch 17/100\n",
      "8571/8571 [==============================] - 1s 86us/sample - loss: 0.9267 - mean_squared_error: 0.9267 - val_loss: 0.1017 - val_mean_squared_error: 0.1017\n",
      "Epoch 18/100\n",
      "8571/8571 [==============================] - 1s 87us/sample - loss: 0.9259 - mean_squared_error: 0.9259 - val_loss: 0.0804 - val_mean_squared_error: 0.0804\n",
      "Epoch 19/100\n",
      "8571/8571 [==============================] - 1s 88us/sample - loss: 0.9030 - mean_squared_error: 0.9030 - val_loss: 0.0711 - val_mean_squared_error: 0.0711\n",
      "Epoch 20/100\n",
      "8571/8571 [==============================] - 1s 85us/sample - loss: 0.9067 - mean_squared_error: 0.9067 - val_loss: 0.0952 - val_mean_squared_error: 0.0952\n",
      "Epoch 21/100\n",
      "8571/8571 [==============================] - 1s 87us/sample - loss: 0.8675 - mean_squared_error: 0.8675 - val_loss: 0.0888 - val_mean_squared_error: 0.0888\n",
      "Epoch 22/100\n",
      "8571/8571 [==============================] - 1s 87us/sample - loss: 0.8395 - mean_squared_error: 0.8395 - val_loss: 0.0759 - val_mean_squared_error: 0.0759\n",
      "Epoch 23/100\n",
      "8571/8571 [==============================] - 1s 94us/sample - loss: 0.8647 - mean_squared_error: 0.8647 - val_loss: 0.0741 - val_mean_squared_error: 0.0741\n",
      "Epoch 24/100\n",
      "8571/8571 [==============================] - 1s 90us/sample - loss: 0.8205 - mean_squared_error: 0.8205 - val_loss: 0.0751 - val_mean_squared_error: 0.0751\n",
      "Epoch 25/100\n",
      "8571/8571 [==============================] - 1s 86us/sample - loss: 0.8122 - mean_squared_error: 0.8122 - val_loss: 0.0779 - val_mean_squared_error: 0.0779\n",
      "Epoch 26/100\n",
      "8571/8571 [==============================] - 1s 85us/sample - loss: 0.8054 - mean_squared_error: 0.8054 - val_loss: 0.0803 - val_mean_squared_error: 0.0803\n",
      "Epoch 27/100\n",
      "8571/8571 [==============================] - 1s 87us/sample - loss: 0.7831 - mean_squared_error: 0.7831 - val_loss: 0.0828 - val_mean_squared_error: 0.0828\n",
      "Epoch 28/100\n",
      "8571/8571 [==============================] - 1s 86us/sample - loss: 0.7824 - mean_squared_error: 0.7824 - val_loss: 0.0730 - val_mean_squared_error: 0.0730\n",
      "Epoch 29/100\n",
      "8571/8571 [==============================] - 1s 87us/sample - loss: 0.7559 - mean_squared_error: 0.7559 - val_loss: 0.0738 - val_mean_squared_error: 0.0738\n",
      "Epoch 30/100\n",
      "8571/8571 [==============================] - 1s 89us/sample - loss: 0.7839 - mean_squared_error: 0.7839 - val_loss: 0.0740 - val_mean_squared_error: 0.0740\n",
      "Epoch 31/100\n",
      "8571/8571 [==============================] - 1s 144us/sample - loss: 0.7507 - mean_squared_error: 0.7507 - val_loss: 0.0729 - val_mean_squared_error: 0.0729\n",
      "Epoch 32/100\n",
      "8571/8571 [==============================] - 1s 134us/sample - loss: 0.7308 - mean_squared_error: 0.7308 - val_loss: 0.0815 - val_mean_squared_error: 0.0815\n",
      "Epoch 33/100\n",
      "8571/8571 [==============================] - 2s 206us/sample - loss: 0.7099 - mean_squared_error: 0.7099 - val_loss: 0.0659 - val_mean_squared_error: 0.0659\n",
      "Epoch 34/100\n",
      "8571/8571 [==============================] - 1s 175us/sample - loss: 0.6940 - mean_squared_error: 0.6940 - val_loss: 0.0576 - val_mean_squared_error: 0.0576\n",
      "Epoch 35/100\n",
      "8571/8571 [==============================] - 1s 119us/sample - loss: 0.6978 - mean_squared_error: 0.6978 - val_loss: 0.0585 - val_mean_squared_error: 0.0585\n",
      "Epoch 36/100\n",
      "8571/8571 [==============================] - 1s 104us/sample - loss: 0.6653 - mean_squared_error: 0.6653 - val_loss: 0.0553 - val_mean_squared_error: 0.0553\n",
      "Epoch 37/100\n",
      "8571/8571 [==============================] - 1s 104us/sample - loss: 0.6457 - mean_squared_error: 0.6457 - val_loss: 0.0675 - val_mean_squared_error: 0.0675\n",
      "Epoch 38/100\n",
      "8571/8571 [==============================] - 1s 102us/sample - loss: 0.6555 - mean_squared_error: 0.6555 - val_loss: 0.0658 - val_mean_squared_error: 0.0658\n",
      "Epoch 39/100\n",
      "8571/8571 [==============================] - 1s 143us/sample - loss: 0.6408 - mean_squared_error: 0.6408 - val_loss: 0.0661 - val_mean_squared_error: 0.0661\n",
      "Epoch 40/100\n",
      "8571/8571 [==============================] - 1s 142us/sample - loss: 0.6244 - mean_squared_error: 0.6244 - val_loss: 0.0715 - val_mean_squared_error: 0.0715\n",
      "Epoch 41/100\n",
      "8571/8571 [==============================] - 1s 95us/sample - loss: 0.6190 - mean_squared_error: 0.6190 - val_loss: 0.0716 - val_mean_squared_error: 0.0716\n",
      "Epoch 42/100\n"
     ]
    },
    {
     "name": "stdout",
     "output_type": "stream",
     "text": [
      "8571/8571 [==============================] - 1s 94us/sample - loss: 0.5939 - mean_squared_error: 0.5939 - val_loss: 0.0630 - val_mean_squared_error: 0.0630\n",
      "Epoch 43/100\n",
      "8571/8571 [==============================] - 1s 111us/sample - loss: 0.6026 - mean_squared_error: 0.6026 - val_loss: 0.0568 - val_mean_squared_error: 0.0568\n",
      "Epoch 44/100\n",
      "8571/8571 [==============================] - 1s 109us/sample - loss: 0.5838 - mean_squared_error: 0.5838 - val_loss: 0.0577 - val_mean_squared_error: 0.0577\n",
      "Epoch 45/100\n",
      "8571/8571 [==============================] - 1s 119us/sample - loss: 0.5696 - mean_squared_error: 0.5696 - val_loss: 0.0591 - val_mean_squared_error: 0.0591\n",
      "Epoch 46/100\n",
      "8571/8571 [==============================] - 1s 110us/sample - loss: 0.5724 - mean_squared_error: 0.5724 - val_loss: 0.0507 - val_mean_squared_error: 0.0507\n",
      "Epoch 47/100\n",
      "8571/8571 [==============================] - 1s 102us/sample - loss: 0.5559 - mean_squared_error: 0.5559 - val_loss: 0.0574 - val_mean_squared_error: 0.0574\n",
      "Epoch 48/100\n",
      "8571/8571 [==============================] - 1s 92us/sample - loss: 0.5459 - mean_squared_error: 0.5459 - val_loss: 0.0525 - val_mean_squared_error: 0.0525\n",
      "Epoch 49/100\n",
      "8571/8571 [==============================] - 1s 94us/sample - loss: 0.5374 - mean_squared_error: 0.5374 - val_loss: 0.0578 - val_mean_squared_error: 0.0578\n",
      "Epoch 50/100\n",
      "8571/8571 [==============================] - 1s 94us/sample - loss: 0.5199 - mean_squared_error: 0.5199 - val_loss: 0.0520 - val_mean_squared_error: 0.0520\n",
      "Epoch 51/100\n",
      "8571/8571 [==============================] - 1s 92us/sample - loss: 0.5364 - mean_squared_error: 0.5364 - val_loss: 0.0501 - val_mean_squared_error: 0.0501\n",
      "Epoch 52/100\n",
      "8571/8571 [==============================] - 1s 96us/sample - loss: 0.5245 - mean_squared_error: 0.5245 - val_loss: 0.0591 - val_mean_squared_error: 0.0591\n",
      "Epoch 53/100\n",
      "8571/8571 [==============================] - 1s 97us/sample - loss: 0.5022 - mean_squared_error: 0.5022 - val_loss: 0.0608 - val_mean_squared_error: 0.0608\n",
      "Epoch 54/100\n",
      "8571/8571 [==============================] - 1s 98us/sample - loss: 0.4983 - mean_squared_error: 0.4983 - val_loss: 0.0529 - val_mean_squared_error: 0.0529\n",
      "Epoch 55/100\n",
      "8571/8571 [==============================] - 1s 101us/sample - loss: 0.5063 - mean_squared_error: 0.5063 - val_loss: 0.0612 - val_mean_squared_error: 0.0612\n",
      "Epoch 56/100\n",
      "8571/8571 [==============================] - 1s 101us/sample - loss: 0.4822 - mean_squared_error: 0.4822 - val_loss: 0.0570 - val_mean_squared_error: 0.0570\n",
      "Epoch 57/100\n",
      "8571/8571 [==============================] - 1s 106us/sample - loss: 0.4740 - mean_squared_error: 0.4740 - val_loss: 0.0473 - val_mean_squared_error: 0.0473\n",
      "Epoch 58/100\n",
      "8571/8571 [==============================] - 1s 108us/sample - loss: 0.4688 - mean_squared_error: 0.4688 - val_loss: 0.0478 - val_mean_squared_error: 0.0478\n",
      "Epoch 59/100\n",
      "8571/8571 [==============================] - 1s 95us/sample - loss: 0.4554 - mean_squared_error: 0.4554 - val_loss: 0.0592 - val_mean_squared_error: 0.0592\n",
      "Epoch 60/100\n",
      "8571/8571 [==============================] - 1s 109us/sample - loss: 0.4629 - mean_squared_error: 0.4629 - val_loss: 0.0580 - val_mean_squared_error: 0.0580\n",
      "Epoch 61/100\n",
      "8571/8571 [==============================] - 1s 166us/sample - loss: 0.4424 - mean_squared_error: 0.4424 - val_loss: 0.0568 - val_mean_squared_error: 0.0568\n",
      "Epoch 62/100\n",
      "8571/8571 [==============================] - 1s 121us/sample - loss: 0.4461 - mean_squared_error: 0.4461 - val_loss: 0.0548 - val_mean_squared_error: 0.0548\n",
      "Epoch 63/100\n",
      "8571/8571 [==============================] - 1s 98us/sample - loss: 0.4414 - mean_squared_error: 0.4414 - val_loss: 0.0551 - val_mean_squared_error: 0.0551\n",
      "Epoch 64/100\n",
      "8571/8571 [==============================] - 1s 95us/sample - loss: 0.4332 - mean_squared_error: 0.4332 - val_loss: 0.0453 - val_mean_squared_error: 0.0453\n",
      "Epoch 65/100\n",
      "8571/8571 [==============================] - 1s 103us/sample - loss: 0.4316 - mean_squared_error: 0.4316 - val_loss: 0.0584 - val_mean_squared_error: 0.0584\n",
      "Epoch 66/100\n",
      "8571/8571 [==============================] - 1s 112us/sample - loss: 0.4249 - mean_squared_error: 0.4249 - val_loss: 0.0488 - val_mean_squared_error: 0.0488\n",
      "Epoch 67/100\n",
      "8571/8571 [==============================] - 1s 129us/sample - loss: 0.4144 - mean_squared_error: 0.4144 - val_loss: 0.0563 - val_mean_squared_error: 0.0563\n",
      "Epoch 68/100\n",
      "8571/8571 [==============================] - 1s 133us/sample - loss: 0.4043 - mean_squared_error: 0.4043 - val_loss: 0.0519 - val_mean_squared_error: 0.0519\n",
      "Epoch 69/100\n",
      "8571/8571 [==============================] - 1s 132us/sample - loss: 0.4044 - mean_squared_error: 0.4044 - val_loss: 0.0552 - val_mean_squared_error: 0.0552\n",
      "Epoch 70/100\n",
      "8571/8571 [==============================] - 1s 144us/sample - loss: 0.3917 - mean_squared_error: 0.3917 - val_loss: 0.0443 - val_mean_squared_error: 0.0443\n",
      "Epoch 71/100\n",
      "8571/8571 [==============================] - 1s 142us/sample - loss: 0.3863 - mean_squared_error: 0.3863 - val_loss: 0.0426 - val_mean_squared_error: 0.0426\n",
      "Epoch 72/100\n",
      "8571/8571 [==============================] - 1s 95us/sample - loss: 0.3691 - mean_squared_error: 0.3691 - val_loss: 0.0495 - val_mean_squared_error: 0.0495\n",
      "Epoch 73/100\n",
      "8571/8571 [==============================] - 1s 93us/sample - loss: 0.3738 - mean_squared_error: 0.3738 - val_loss: 0.0445 - val_mean_squared_error: 0.0445\n",
      "Epoch 74/100\n",
      "8571/8571 [==============================] - 1s 116us/sample - loss: 0.3685 - mean_squared_error: 0.3685 - val_loss: 0.0490 - val_mean_squared_error: 0.0490\n",
      "Epoch 75/100\n",
      "8571/8571 [==============================] - 1s 113us/sample - loss: 0.3639 - mean_squared_error: 0.3639 - val_loss: 0.0549 - val_mean_squared_error: 0.0549\n",
      "Epoch 76/100\n",
      "8571/8571 [==============================] - 1s 143us/sample - loss: 0.3509 - mean_squared_error: 0.3509 - val_loss: 0.0462 - val_mean_squared_error: 0.0462\n",
      "Epoch 77/100\n",
      "8571/8571 [==============================] - 1s 93us/sample - loss: 0.3527 - mean_squared_error: 0.3527 - val_loss: 0.0459 - val_mean_squared_error: 0.0459\n",
      "Epoch 78/100\n",
      "8571/8571 [==============================] - 1s 136us/sample - loss: 0.3411 - mean_squared_error: 0.3411 - val_loss: 0.0428 - val_mean_squared_error: 0.0428\n",
      "Epoch 79/100\n",
      "8571/8571 [==============================] - 1s 171us/sample - loss: 0.3470 - mean_squared_error: 0.3470 - val_loss: 0.0476 - val_mean_squared_error: 0.0476\n",
      "Epoch 80/100\n",
      "8571/8571 [==============================] - 1s 117us/sample - loss: 0.3462 - mean_squared_error: 0.3462 - val_loss: 0.0480 - val_mean_squared_error: 0.0480\n",
      "Epoch 81/100\n",
      "8571/8571 [==============================] - 1s 88us/sample - loss: 0.3297 - mean_squared_error: 0.3297 - val_loss: 0.0409 - val_mean_squared_error: 0.0409\n",
      "Epoch 82/100\n",
      "8571/8571 [==============================] - 1s 139us/sample - loss: 0.3197 - mean_squared_error: 0.3197 - val_loss: 0.0426 - val_mean_squared_error: 0.0426\n",
      "Epoch 83/100\n",
      "8571/8571 [==============================] - 1s 153us/sample - loss: 0.3157 - mean_squared_error: 0.3157 - val_loss: 0.0481 - val_mean_squared_error: 0.0481\n",
      "Epoch 84/100\n",
      "8571/8571 [==============================] - 1s 109us/sample - loss: 0.3049 - mean_squared_error: 0.3049 - val_loss: 0.0424 - val_mean_squared_error: 0.0424\n",
      "Epoch 85/100\n",
      "8571/8571 [==============================] - 2s 206us/sample - loss: 0.3025 - mean_squared_error: 0.3025 - val_loss: 0.0563 - val_mean_squared_error: 0.0563\n",
      "Epoch 86/100\n",
      "8571/8571 [==============================] - 1s 95us/sample - loss: 0.2916 - mean_squared_error: 0.2916 - val_loss: 0.0422 - val_mean_squared_error: 0.0422\n",
      "Epoch 87/100\n",
      "8571/8571 [==============================] - 2s 187us/sample - loss: 0.2932 - mean_squared_error: 0.2932 - val_loss: 0.0485 - val_mean_squared_error: 0.0485\n",
      "Epoch 88/100\n",
      "8571/8571 [==============================] - 1s 145us/sample - loss: 0.2898 - mean_squared_error: 0.2898 - val_loss: 0.0420 - val_mean_squared_error: 0.0420\n",
      "Epoch 89/100\n",
      "8571/8571 [==============================] - 2s 177us/sample - loss: 0.2866 - mean_squared_error: 0.2866 - val_loss: 0.0382 - val_mean_squared_error: 0.0382\n",
      "Epoch 90/100\n"
     ]
    },
    {
     "name": "stdout",
     "output_type": "stream",
     "text": [
      "8571/8571 [==============================] - 1s 152us/sample - loss: 0.2776 - mean_squared_error: 0.2776 - val_loss: 0.0449 - val_mean_squared_error: 0.0449\n",
      "Epoch 91/100\n",
      "8571/8571 [==============================] - 1s 89us/sample - loss: 0.2815 - mean_squared_error: 0.2815 - val_loss: 0.0443 - val_mean_squared_error: 0.0443\n",
      "Epoch 92/100\n",
      "8571/8571 [==============================] - 1s 92us/sample - loss: 0.2620 - mean_squared_error: 0.2620 - val_loss: 0.0441 - val_mean_squared_error: 0.0441\n",
      "Epoch 93/100\n",
      "8571/8571 [==============================] - 1s 92us/sample - loss: 0.2735 - mean_squared_error: 0.2735 - val_loss: 0.0369 - val_mean_squared_error: 0.0369\n",
      "Epoch 94/100\n",
      "8571/8571 [==============================] - 1s 95us/sample - loss: 0.2503 - mean_squared_error: 0.2503 - val_loss: 0.0411 - val_mean_squared_error: 0.0411\n",
      "Epoch 95/100\n",
      "8571/8571 [==============================] - 1s 102us/sample - loss: 0.2507 - mean_squared_error: 0.2507 - val_loss: 0.0432 - val_mean_squared_error: 0.0432\n",
      "Epoch 96/100\n",
      "8571/8571 [==============================] - 1s 100us/sample - loss: 0.2511 - mean_squared_error: 0.2511 - val_loss: 0.0426 - val_mean_squared_error: 0.0426\n",
      "Epoch 97/100\n",
      "8571/8571 [==============================] - 1s 95us/sample - loss: 0.2507 - mean_squared_error: 0.2507 - val_loss: 0.0392 - val_mean_squared_error: 0.0392\n",
      "Epoch 98/100\n",
      "8571/8571 [==============================] - 1s 93us/sample - loss: 0.2465 - mean_squared_error: 0.2465 - val_loss: 0.0371 - val_mean_squared_error: 0.0371\n",
      "Epoch 99/100\n",
      "8571/8571 [==============================] - 1s 114us/sample - loss: 0.2395 - mean_squared_error: 0.2395 - val_loss: 0.0384 - val_mean_squared_error: 0.0384\n",
      "Epoch 100/100\n",
      "8571/8571 [==============================] - 1s 110us/sample - loss: 0.2311 - mean_squared_error: 0.2311 - val_loss: 0.0387 - val_mean_squared_error: 0.0387\n"
     ]
    }
   ],
   "source": [
    "model = keras.Sequential()\n",
    "model.add(keras.layers.Dense(units=64, activation=\"relu\", input_shape=[X_train.shape[1]]))\n",
    "model.add(keras.layers.Dropout(rate=0.3))\n",
    "model.add(keras.layers.Dense(units=32, activation=\"relu\"))\n",
    "model.add(keras.layers.Dropout(rate=0.5))\n",
    "\n",
    "model.add(keras.layers.Dense(1))\n",
    "\n",
    "model.compile(\n",
    "    optimizer=keras.optimizers.Adam(0.0001),\n",
    "    loss = 'mse',\n",
    "    metrics = ['mse'])\n",
    "\n",
    "BATCH_SIZE = 32\n",
    "\n",
    "history = model.fit(\n",
    "  x=X_train,\n",
    "  y=y_train,\n",
    "  shuffle=True,\n",
    "  epochs=100,\n",
    "  validation_split=0.2,\n",
    "  batch_size=BATCH_SIZE\n",
    ")"
   ]
  },
  {
   "cell_type": "code",
   "execution_count": 26,
   "metadata": {},
   "outputs": [],
   "source": [
    "dt = pd.read_excel('Test_dataset.xlsx')"
   ]
  },
  {
   "cell_type": "code",
   "execution_count": 27,
   "metadata": {},
   "outputs": [],
   "source": [
    "dt = dt.drop(['Heart rate', 'd-dimer', 'Married','Insurance', 'Platelets', 'Occupation', 'FT/month', 'Diuresis' , 'Children' ,'Designation','Gender', 'comorbidity' , 'cardiological pressure' , 'HDL cholesterol' , 'Name' , 'HBB' , 'Mode_transport'], axis=1)\n",
    "X_test=dt;"
   ]
  },
  {
   "cell_type": "code",
   "execution_count": 28,
   "metadata": {},
   "outputs": [],
   "source": [
    "from sklearn.preprocessing import MinMaxScaler, OneHotEncoder\n",
    "from sklearn.compose import make_column_transformer\n",
    "\n",
    "transformer = make_column_transformer(\n",
    "    (MinMaxScaler(), [ 'cases/1M', 'Deaths/1M' , 'Age' , 'Coma score','Charlson Index','Blood Glucose']),\n",
    "    (OneHotEncoder(handle_unknown=\"ignore\"), [ 'Region', 'Pulmonary score'])\n",
    ")"
   ]
  },
  {
   "cell_type": "code",
   "execution_count": 29,
   "metadata": {},
   "outputs": [
    {
     "data": {
      "text/plain": [
       "ColumnTransformer(n_jobs=None, remainder='drop', sparse_threshold=0.3,\n",
       "                  transformer_weights=None,\n",
       "                  transformers=[('minmaxscaler',\n",
       "                                 MinMaxScaler(copy=True, feature_range=(0, 1)),\n",
       "                                 ['cases/1M', 'Deaths/1M', 'Age', 'Coma score',\n",
       "                                  'Charlson Index', 'Blood Glucose']),\n",
       "                                ('onehotencoder',\n",
       "                                 OneHotEncoder(categories='auto', drop=None,\n",
       "                                               dtype=<class 'numpy.float64'>,\n",
       "                                               handle_unknown='ignore',\n",
       "                                               sparse=True),\n",
       "                                 ['Region', 'Pulmonary score'])],\n",
       "                  verbose=False)"
      ]
     },
     "execution_count": 29,
     "metadata": {},
     "output_type": "execute_result"
    }
   ],
   "source": [
    "transformer.fit(X_test)"
   ]
  },
  {
   "cell_type": "code",
   "execution_count": 30,
   "metadata": {},
   "outputs": [],
   "source": [
    "X_test = transformer.transform(X_test)"
   ]
  },
  {
   "cell_type": "code",
   "execution_count": 31,
   "metadata": {},
   "outputs": [
    {
     "data": {
      "text/plain": [
       "(14498, 16)"
      ]
     },
     "execution_count": 31,
     "metadata": {},
     "output_type": "execute_result"
    }
   ],
   "source": [
    "X_test.shape"
   ]
  },
  {
   "cell_type": "code",
   "execution_count": 32,
   "metadata": {},
   "outputs": [],
   "source": [
    "y_pred = model.predict(X_test)"
   ]
  },
  {
   "cell_type": "code",
   "execution_count": 33,
   "metadata": {},
   "outputs": [
    {
     "name": "stdout",
     "output_type": "stream",
     "text": [
      "[46.162354]\n"
     ]
    }
   ],
   "source": [
    "print( np.e**(y_pred[1]))"
   ]
  },
  {
   "cell_type": "code",
   "execution_count": 34,
   "metadata": {},
   "outputs": [
    {
     "data": {
      "text/plain": [
       "(14498, 1)"
      ]
     },
     "execution_count": 34,
     "metadata": {},
     "output_type": "execute_result"
    }
   ],
   "source": [
    "y_pred.shape"
   ]
  },
  {
   "cell_type": "code",
   "execution_count": 35,
   "metadata": {},
   "outputs": [
    {
     "data": {
      "text/plain": [
       "(14498, 10)"
      ]
     },
     "execution_count": 35,
     "metadata": {},
     "output_type": "execute_result"
    }
   ],
   "source": [
    "dt.shape"
   ]
  },
  {
   "cell_type": "code",
   "execution_count": 36,
   "metadata": {},
   "outputs": [],
   "source": [
    "\n",
    "import csv\n",
    "\n",
    "with open('prediction.csv', 'w') as csvfile:\n",
    "    filewriter = csv.writer(csvfile, delimiter=',',\n",
    "                            quotechar='|', quoting=csv.QUOTE_MINIMAL)\n",
    "    filewriter.writerow(['ID','Prob'])\n",
    "    for i in range(14498):   \n",
    "        row_list=[[dt.people_ID[i], np.e**(y_pred[i])]]\n",
    "        filewriter.writerows(row_list)"
   ]
  }
 ],
 "metadata": {
  "kernelspec": {
   "display_name": "Python 3",
   "language": "python",
   "name": "python3"
  },
  "language_info": {
   "codemirror_mode": {
    "name": "ipython",
    "version": 3
   },
   "file_extension": ".py",
   "mimetype": "text/x-python",
   "name": "python",
   "nbconvert_exporter": "python",
   "pygments_lexer": "ipython3",
   "version": "3.7.3"
  }
 },
 "nbformat": 4,
 "nbformat_minor": 2
}
